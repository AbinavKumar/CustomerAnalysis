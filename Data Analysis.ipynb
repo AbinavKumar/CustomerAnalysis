{
 "cells": [
  {
   "cell_type": "markdown",
   "metadata": {},
   "source": [
    "# Customer Segmentation using Clustering"
   ]
  },
  {
   "cell_type": "code",
   "execution_count": 1,
   "metadata": {},
   "outputs": [],
   "source": [
    "import pandas as pd\n",
    "import sklearn\n",
    "import matplotlib.pyplot as plt\n",
    "import seaborn as sns\n",
    "import numpy as np\n",
    "\n",
    "sns.set_style('whitegrid')\n",
    "sns.set_context('poster')"
   ]
  },
  {
   "cell_type": "markdown",
   "metadata": {},
   "source": [
    "# Data\n",
    "This data set comes from the UCI Machine Learning Repository (Called the Online Retail II dataset). Each observation is an invoice for a specific item. The data was in an Excel format but I converted it to a CSV in my previous notebook."
   ]
  },
  {
   "cell_type": "code",
   "execution_count": 2,
   "metadata": {},
   "outputs": [],
   "source": [
    "data = pd.read_csv('clean_customer_retail.csv')\n",
    "data.drop('Unnamed: 0', axis=1, inplace=True)"
   ]
  },
  {
   "cell_type": "code",
   "execution_count": 3,
   "metadata": {},
   "outputs": [
    {
     "data": {
      "text/html": [
       "<div>\n",
       "<style scoped>\n",
       "    .dataframe tbody tr th:only-of-type {\n",
       "        vertical-align: middle;\n",
       "    }\n",
       "\n",
       "    .dataframe tbody tr th {\n",
       "        vertical-align: top;\n",
       "    }\n",
       "\n",
       "    .dataframe thead th {\n",
       "        text-align: right;\n",
       "    }\n",
       "</style>\n",
       "<table border=\"1\" class=\"dataframe\">\n",
       "  <thead>\n",
       "    <tr style=\"text-align: right;\">\n",
       "      <th></th>\n",
       "      <th>Invoice</th>\n",
       "      <th>StockCode</th>\n",
       "      <th>Description</th>\n",
       "      <th>Quantity</th>\n",
       "      <th>InvoiceDate</th>\n",
       "      <th>Price</th>\n",
       "      <th>Customer ID</th>\n",
       "      <th>Country</th>\n",
       "      <th>Revenue</th>\n",
       "    </tr>\n",
       "  </thead>\n",
       "  <tbody>\n",
       "    <tr>\n",
       "      <th>0</th>\n",
       "      <td>489434</td>\n",
       "      <td>85048</td>\n",
       "      <td>15CM CHRISTMAS GLASS BALL 20 LIGHTS</td>\n",
       "      <td>12</td>\n",
       "      <td>2009-12-01 07:45:00</td>\n",
       "      <td>6.95</td>\n",
       "      <td>13085</td>\n",
       "      <td>United Kingdom</td>\n",
       "      <td>83.4</td>\n",
       "    </tr>\n",
       "    <tr>\n",
       "      <th>1</th>\n",
       "      <td>489434</td>\n",
       "      <td>79323P</td>\n",
       "      <td>PINK CHERRY LIGHTS</td>\n",
       "      <td>12</td>\n",
       "      <td>2009-12-01 07:45:00</td>\n",
       "      <td>6.75</td>\n",
       "      <td>13085</td>\n",
       "      <td>United Kingdom</td>\n",
       "      <td>81.0</td>\n",
       "    </tr>\n",
       "    <tr>\n",
       "      <th>2</th>\n",
       "      <td>489434</td>\n",
       "      <td>79323W</td>\n",
       "      <td>WHITE CHERRY LIGHTS</td>\n",
       "      <td>12</td>\n",
       "      <td>2009-12-01 07:45:00</td>\n",
       "      <td>6.75</td>\n",
       "      <td>13085</td>\n",
       "      <td>United Kingdom</td>\n",
       "      <td>81.0</td>\n",
       "    </tr>\n",
       "    <tr>\n",
       "      <th>3</th>\n",
       "      <td>489434</td>\n",
       "      <td>22041</td>\n",
       "      <td>RECORD FRAME 7\" SINGLE SIZE</td>\n",
       "      <td>48</td>\n",
       "      <td>2009-12-01 07:45:00</td>\n",
       "      <td>2.10</td>\n",
       "      <td>13085</td>\n",
       "      <td>United Kingdom</td>\n",
       "      <td>100.8</td>\n",
       "    </tr>\n",
       "    <tr>\n",
       "      <th>4</th>\n",
       "      <td>489434</td>\n",
       "      <td>21232</td>\n",
       "      <td>STRAWBERRY CERAMIC TRINKET BOX</td>\n",
       "      <td>24</td>\n",
       "      <td>2009-12-01 07:45:00</td>\n",
       "      <td>1.25</td>\n",
       "      <td>13085</td>\n",
       "      <td>United Kingdom</td>\n",
       "      <td>30.0</td>\n",
       "    </tr>\n",
       "  </tbody>\n",
       "</table>\n",
       "</div>"
      ],
      "text/plain": [
       "   Invoice StockCode                          Description  Quantity  \\\n",
       "0   489434     85048  15CM CHRISTMAS GLASS BALL 20 LIGHTS        12   \n",
       "1   489434    79323P                   PINK CHERRY LIGHTS        12   \n",
       "2   489434    79323W                  WHITE CHERRY LIGHTS        12   \n",
       "3   489434     22041         RECORD FRAME 7\" SINGLE SIZE         48   \n",
       "4   489434     21232       STRAWBERRY CERAMIC TRINKET BOX        24   \n",
       "\n",
       "           InvoiceDate  Price  Customer ID         Country  Revenue  \n",
       "0  2009-12-01 07:45:00   6.95        13085  United Kingdom     83.4  \n",
       "1  2009-12-01 07:45:00   6.75        13085  United Kingdom     81.0  \n",
       "2  2009-12-01 07:45:00   6.75        13085  United Kingdom     81.0  \n",
       "3  2009-12-01 07:45:00   2.10        13085  United Kingdom    100.8  \n",
       "4  2009-12-01 07:45:00   1.25        13085  United Kingdom     30.0  "
      ]
     },
     "execution_count": 3,
     "metadata": {},
     "output_type": "execute_result"
    }
   ],
   "source": [
    "data.head()"
   ]
  },
  {
   "cell_type": "markdown",
   "metadata": {},
   "source": [
    "# Pre-processing"
   ]
  },
  {
   "cell_type": "markdown",
   "metadata": {},
   "source": [
    "Even though I did some cleaning in the EDA notebook, the data needs a little more preperation before I can do a cluster anaylsis on it. I transform the dataset to be customer-centric instead of invoice-centric."
   ]
  },
  {
   "cell_type": "code",
   "execution_count": 4,
   "metadata": {},
   "outputs": [],
   "source": [
    "data['Description'] = [x.replace(' ', '') for x in data['Description']]"
   ]
  },
  {
   "cell_type": "code",
   "execution_count": 5,
   "metadata": {},
   "outputs": [
    {
     "name": "stdout",
     "output_type": "stream",
     "text": [
      "Unique Stock Codes: 4588\n",
      "Unique Descriptions: 5117\n"
     ]
    }
   ],
   "source": [
    "print('Unique Stock Codes:', data['StockCode'].nunique())\n",
    "print('Unique Descriptions:', data['Description'].nunique())"
   ]
  },
  {
   "cell_type": "markdown",
   "metadata": {},
   "source": [
    "There appears to be a mismatch between unique stock codes and unique descriptions. There is  more room for error with descriptions so the data just might not be clean leading to more unique entries. Because of this, I will use Stock Codes for the intial clustering. "
   ]
  },
  {
   "cell_type": "code",
   "execution_count": 17,
   "metadata": {},
   "outputs": [],
   "source": [
    "# Generate a table with invoice numers as the focus\n",
    "invoice = data[['Invoice', 'StockCode', 'Quantity']]\n",
    "invoice = invoice.pivot_table(index='Invoice', columns='StockCode', values='Quantity')\n",
    "invoice = invoice.fillna(0)\n",
    "\n",
    "# Generate a Customer ID to Invoice number mapping\n",
    "customers = data[['Customer ID', 'Invoice']]\n",
    "customers = customers.groupby('Invoice').head(1)\n",
    "\n",
    "# Add Customer IDs to spread data\n",
    "data_prep = invoice\n",
    "data_prep = customers.merge(data_prep, how='right', on='Invoice')\n",
    "\n",
    "# Create revenue column\n",
    "revenue = data[['Invoice','Revenue']]\n",
    "revenue = revenue.groupby('Invoice').sum()\n",
    "data_prep = data_prep.merge(revenue, how='left', on='Invoice')\n",
    "\n",
    "# Drop Invoice because it's no longer necessary\n",
    "data_prep.drop('Invoice', axis=1, inplace=True)\n",
    "\n",
    "# Center the table on each independent customer\n",
    "data_prep = data_prep.groupby('Customer ID').sum()\n",
    "\n",
    "# Create total orders per customer column\n",
    "orders = data.groupby('Customer ID')['Invoice'].nunique()\n",
    "data_prep = data_prep.merge(orders, how='left', on='Customer ID')\n",
    "data_prep['Orders'] = data_prep['Invoice']\n",
    "data_prep.drop('Invoice', axis=1, inplace=True)\n",
    "\n",
    "# Create Item Column\n",
    "customer_totals = data_prep.drop(['Revenue', 'Orders'], axis=1)\n",
    "customer_totals['Items'] = customer_totals.sum(axis=1)\n",
    "customer_totals = customer_totals[['Items']]\n",
    "data_prep = data_prep.merge(customer_totals, how='left', on='Customer ID')\n",
    "\n",
    "# Create columns for avg items per order and avg revenue per order and avg rev per item\n",
    "data_prep['AvgItemsOrder'] = data_prep['Items']/data_prep['Orders']\n",
    "data_prep['AvgRevenueOrder'] = data_prep['Revenue']/data_prep['Orders']\n",
    "data_prep['AvgRevenueItem'] = data_prep['Revenue']/data_prep['Items']\n",
    "\n",
    "# Add countries column\n",
    "# countries = data[['Customer ID', 'Country']]\n",
    "# countries = countries.groupby('Customer ID').head(1)\n",
    "# data_prep = data_prep.merge(countries, how='left', on='Customer ID')"
   ]
  },
  {
   "cell_type": "code",
   "execution_count": 18,
   "metadata": {},
   "outputs": [
    {
     "data": {
      "text/html": [
       "<div>\n",
       "<style scoped>\n",
       "    .dataframe tbody tr th:only-of-type {\n",
       "        vertical-align: middle;\n",
       "    }\n",
       "\n",
       "    .dataframe tbody tr th {\n",
       "        vertical-align: top;\n",
       "    }\n",
       "\n",
       "    .dataframe thead th {\n",
       "        text-align: right;\n",
       "    }\n",
       "</style>\n",
       "<table border=\"1\" class=\"dataframe\">\n",
       "  <thead>\n",
       "    <tr style=\"text-align: right;\">\n",
       "      <th></th>\n",
       "      <th>10002</th>\n",
       "      <th>10080</th>\n",
       "      <th>10109</th>\n",
       "      <th>10120</th>\n",
       "      <th>10123C</th>\n",
       "      <th>10123G</th>\n",
       "      <th>10124A</th>\n",
       "      <th>10124G</th>\n",
       "      <th>10125</th>\n",
       "      <th>10133</th>\n",
       "      <th>...</th>\n",
       "      <th>90214Z</th>\n",
       "      <th>C2</th>\n",
       "      <th>PADS</th>\n",
       "      <th>SP1002</th>\n",
       "      <th>Revenue</th>\n",
       "      <th>Orders</th>\n",
       "      <th>Items</th>\n",
       "      <th>AvgItemsOrder</th>\n",
       "      <th>AvgRevenueOrder</th>\n",
       "      <th>AvgRevenueItem</th>\n",
       "    </tr>\n",
       "    <tr>\n",
       "      <th>Customer ID</th>\n",
       "      <th></th>\n",
       "      <th></th>\n",
       "      <th></th>\n",
       "      <th></th>\n",
       "      <th></th>\n",
       "      <th></th>\n",
       "      <th></th>\n",
       "      <th></th>\n",
       "      <th></th>\n",
       "      <th></th>\n",
       "      <th></th>\n",
       "      <th></th>\n",
       "      <th></th>\n",
       "      <th></th>\n",
       "      <th></th>\n",
       "      <th></th>\n",
       "      <th></th>\n",
       "      <th></th>\n",
       "      <th></th>\n",
       "      <th></th>\n",
       "      <th></th>\n",
       "    </tr>\n",
       "  </thead>\n",
       "  <tbody>\n",
       "    <tr>\n",
       "      <th>12346</th>\n",
       "      <td>0.0</td>\n",
       "      <td>0.0</td>\n",
       "      <td>0.0</td>\n",
       "      <td>0.0</td>\n",
       "      <td>0.0</td>\n",
       "      <td>0.0</td>\n",
       "      <td>0.0</td>\n",
       "      <td>0.0</td>\n",
       "      <td>0.0</td>\n",
       "      <td>0.0</td>\n",
       "      <td>...</td>\n",
       "      <td>0.0</td>\n",
       "      <td>0.0</td>\n",
       "      <td>0.0</td>\n",
       "      <td>0.0</td>\n",
       "      <td>169.36</td>\n",
       "      <td>2</td>\n",
       "      <td>24.0</td>\n",
       "      <td>12.000000</td>\n",
       "      <td>84.680</td>\n",
       "      <td>7.056667</td>\n",
       "    </tr>\n",
       "    <tr>\n",
       "      <th>12347</th>\n",
       "      <td>0.0</td>\n",
       "      <td>0.0</td>\n",
       "      <td>0.0</td>\n",
       "      <td>0.0</td>\n",
       "      <td>0.0</td>\n",
       "      <td>0.0</td>\n",
       "      <td>0.0</td>\n",
       "      <td>0.0</td>\n",
       "      <td>0.0</td>\n",
       "      <td>0.0</td>\n",
       "      <td>...</td>\n",
       "      <td>0.0</td>\n",
       "      <td>0.0</td>\n",
       "      <td>0.0</td>\n",
       "      <td>0.0</td>\n",
       "      <td>5383.72</td>\n",
       "      <td>8</td>\n",
       "      <td>2727.0</td>\n",
       "      <td>340.875000</td>\n",
       "      <td>672.965</td>\n",
       "      <td>1.974228</td>\n",
       "    </tr>\n",
       "    <tr>\n",
       "      <th>12348</th>\n",
       "      <td>0.0</td>\n",
       "      <td>0.0</td>\n",
       "      <td>0.0</td>\n",
       "      <td>0.0</td>\n",
       "      <td>0.0</td>\n",
       "      <td>0.0</td>\n",
       "      <td>0.0</td>\n",
       "      <td>0.0</td>\n",
       "      <td>0.0</td>\n",
       "      <td>0.0</td>\n",
       "      <td>...</td>\n",
       "      <td>0.0</td>\n",
       "      <td>0.0</td>\n",
       "      <td>0.0</td>\n",
       "      <td>0.0</td>\n",
       "      <td>816.24</td>\n",
       "      <td>4</td>\n",
       "      <td>1048.0</td>\n",
       "      <td>262.000000</td>\n",
       "      <td>204.060</td>\n",
       "      <td>0.778855</td>\n",
       "    </tr>\n",
       "    <tr>\n",
       "      <th>12349</th>\n",
       "      <td>0.0</td>\n",
       "      <td>0.0</td>\n",
       "      <td>0.0</td>\n",
       "      <td>0.0</td>\n",
       "      <td>0.0</td>\n",
       "      <td>0.0</td>\n",
       "      <td>0.0</td>\n",
       "      <td>0.0</td>\n",
       "      <td>0.0</td>\n",
       "      <td>0.0</td>\n",
       "      <td>...</td>\n",
       "      <td>0.0</td>\n",
       "      <td>0.0</td>\n",
       "      <td>0.0</td>\n",
       "      <td>0.0</td>\n",
       "      <td>3678.69</td>\n",
       "      <td>3</td>\n",
       "      <td>1621.0</td>\n",
       "      <td>540.333333</td>\n",
       "      <td>1226.230</td>\n",
       "      <td>2.269395</td>\n",
       "    </tr>\n",
       "    <tr>\n",
       "      <th>12350</th>\n",
       "      <td>0.0</td>\n",
       "      <td>0.0</td>\n",
       "      <td>0.0</td>\n",
       "      <td>0.0</td>\n",
       "      <td>0.0</td>\n",
       "      <td>0.0</td>\n",
       "      <td>0.0</td>\n",
       "      <td>0.0</td>\n",
       "      <td>0.0</td>\n",
       "      <td>0.0</td>\n",
       "      <td>...</td>\n",
       "      <td>0.0</td>\n",
       "      <td>0.0</td>\n",
       "      <td>0.0</td>\n",
       "      <td>0.0</td>\n",
       "      <td>294.40</td>\n",
       "      <td>1</td>\n",
       "      <td>196.0</td>\n",
       "      <td>196.000000</td>\n",
       "      <td>294.400</td>\n",
       "      <td>1.502041</td>\n",
       "    </tr>\n",
       "  </tbody>\n",
       "</table>\n",
       "<p>5 rows × 4594 columns</p>\n",
       "</div>"
      ],
      "text/plain": [
       "             10002  10080  10109  10120  10123C  10123G  10124A  10124G  \\\n",
       "Customer ID                                                               \n",
       "12346          0.0    0.0    0.0    0.0     0.0     0.0     0.0     0.0   \n",
       "12347          0.0    0.0    0.0    0.0     0.0     0.0     0.0     0.0   \n",
       "12348          0.0    0.0    0.0    0.0     0.0     0.0     0.0     0.0   \n",
       "12349          0.0    0.0    0.0    0.0     0.0     0.0     0.0     0.0   \n",
       "12350          0.0    0.0    0.0    0.0     0.0     0.0     0.0     0.0   \n",
       "\n",
       "             10125  10133  ...  90214Z   C2  PADS  SP1002  Revenue  Orders  \\\n",
       "Customer ID                ...                                               \n",
       "12346          0.0    0.0  ...     0.0  0.0   0.0     0.0   169.36       2   \n",
       "12347          0.0    0.0  ...     0.0  0.0   0.0     0.0  5383.72       8   \n",
       "12348          0.0    0.0  ...     0.0  0.0   0.0     0.0   816.24       4   \n",
       "12349          0.0    0.0  ...     0.0  0.0   0.0     0.0  3678.69       3   \n",
       "12350          0.0    0.0  ...     0.0  0.0   0.0     0.0   294.40       1   \n",
       "\n",
       "              Items  AvgItemsOrder  AvgRevenueOrder  AvgRevenueItem  \n",
       "Customer ID                                                          \n",
       "12346          24.0      12.000000           84.680        7.056667  \n",
       "12347        2727.0     340.875000          672.965        1.974228  \n",
       "12348        1048.0     262.000000          204.060        0.778855  \n",
       "12349        1621.0     540.333333         1226.230        2.269395  \n",
       "12350         196.0     196.000000          294.400        1.502041  \n",
       "\n",
       "[5 rows x 4594 columns]"
      ]
     },
     "execution_count": 18,
     "metadata": {},
     "output_type": "execute_result"
    }
   ],
   "source": [
    "data_prep.head()"
   ]
  },
  {
   "cell_type": "markdown",
   "metadata": {},
   "source": [
    "# Clustering"
   ]
  },
  {
   "cell_type": "code",
   "execution_count": 25,
   "metadata": {},
   "outputs": [
    {
     "name": "stderr",
     "output_type": "stream",
     "text": [
      "/anaconda3/lib/python3.7/site-packages/sklearn/preprocessing/data.py:334: DataConversionWarning: Data with input dtype int64, float64 were all converted to float64 by MinMaxScaler.\n",
      "  return self.partial_fit(X, y)\n"
     ]
    }
   ],
   "source": [
    "# Scale data\n",
    "from sklearn.preprocessing import MinMaxScaler\n",
    "\n",
    "scaler = MinMaxScaler(feature_range=(0,1))\n",
    "\n",
    "prep_scaled = scaler.fit_transform(data_prep)"
   ]
  },
  {
   "cell_type": "markdown",
   "metadata": {},
   "source": [
    "## K-Means Clustering"
   ]
  },
  {
   "cell_type": "code",
   "execution_count": 28,
   "metadata": {},
   "outputs": [
    {
     "data": {
      "image/png": "[encoded data removed]",
      "text/plain": [
       "<Figure size 1080x720 with 1 Axes>"
      ]
     },
     "metadata": {
      "needs_background": "light"
     },
     "output_type": "display_data"
    }
   ],
   "source": [
    "from sklearn.cluster import KMeans\n",
    "\n",
    "SSs = []\n",
    "for k in range(2,11):\n",
    "    model = KMeans(n_clusters=k, random_state=13)\n",
    "    model.fit(prep_scaled)\n",
    "    SSs.append(model.inertia_)\n",
    "\n",
    "fig, ax = plt.subplots(1, figsize=(15, 10))\n",
    "plt.plot(range(2,11), SSs, '-o')\n",
    "plt.xlabel('K')\n",
    "plt.ylabel('SS')\n",
    "plt.show()    "
   ]
  },
  {
   "cell_type": "code",
   "execution_count": null,
   "metadata": {},
   "outputs": [],
   "source": []
  },
  {
   "cell_type": "code",
   "execution_count": null,
   "metadata": {},
   "outputs": [],
   "source": []
  },
  {
   "cell_type": "code",
   "execution_count": null,
   "metadata": {},
   "outputs": [],
   "source": []
  },
  {
   "cell_type": "code",
   "execution_count": null,
   "metadata": {},
   "outputs": [],
   "source": []
  },
  {
   "cell_type": "code",
   "execution_count": null,
   "metadata": {},
   "outputs": [],
   "source": []
  }
 ],
 "metadata": {
  "kernelspec": {
   "display_name": "Python 3",
   "language": "python",
   "name": "python3"
  },
  "language_info": {
   "codemirror_mode": {
    "name": "ipython",
    "version": 3
   },
   "file_extension": ".py",
   "mimetype": "text/x-python",
   "name": "python",
   "nbconvert_exporter": "python",
   "pygments_lexer": "ipython3",
   "version": "3.7.3"
  }
 },
 "nbformat": 4,
 "nbformat_minor": 2
}
